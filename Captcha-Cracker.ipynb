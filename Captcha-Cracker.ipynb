{
 "cells": [
  {
   "cell_type": "code",
   "execution_count": 1,
   "metadata": {},
   "outputs": [],
   "source": [
    "from PIL import Image"
   ]
  },
  {
   "cell_type": "code",
   "execution_count": 9,
   "metadata": {},
   "outputs": [
    {
     "data": {
      "image/png": "[encoded data removed]",
      "text/plain": [
       "<PIL.Image.Image image mode=1 size=60x30 at 0x7F7AFC08F748>"
      ]
     },
     "execution_count": 9,
     "metadata": {},
     "output_type": "execute_result"
    }
   ],
   "source": [
    "img = Image.open('input00.jpg').convert('L')\n",
    "img = img.point(lambda x: 0 if x<50 else 255, '1')\n",
    "img.save('input00_noise_removed.png')\n",
    "img"
   ]
  },
  {
   "cell_type": "code",
   "execution_count": 7,
   "metadata": {},
   "outputs": [
    {
     "data": {
      "text/plain": [
       "PIL.Image.Image"
      ]
     },
     "execution_count": 7,
     "metadata": {},
     "output_type": "execute_result"
    }
   ],
   "source": [
    "type(img)"
   ]
  },
  {
   "cell_type": "code",
   "execution_count": 37,
   "metadata": {},
   "outputs": [
    {
     "data": {
      "image/png": "[encoded data removed]",
      "text/plain": [
       "<PIL.Image.Image image mode=P size=60x30 at 0x7F7AE7B67E10>"
      ]
     },
     "execution_count": 37,
     "metadata": {},
     "output_type": "execute_result"
    }
   ],
   "source": [
    "p = Image.open('input00_noise_removed.png').convert('P')\n",
    "p"
   ]
  },
  {
   "cell_type": "code",
   "execution_count": 27,
   "metadata": {},
   "outputs": [
    {
     "data": {
      "text/plain": [
       "(60, 30)"
      ]
     },
     "execution_count": 27,
     "metadata": {},
     "output_type": "execute_result"
    }
   ],
   "source": [
    "w, h = p.size\n",
    "w, h"
   ]
  },
  {
   "cell_type": "code",
   "execution_count": 42,
   "metadata": {
    "scrolled": true
   },
   "outputs": [
    {
     "data": {
      "text/plain": [
       "(11, 20)"
      ]
     },
     "execution_count": 42,
     "metadata": {},
     "output_type": "execute_result"
    }
   ],
   "source": [
    "up, down = 0, 0\n",
    "for j in range(h):\n",
    "    found = False\n",
    "    for i in range(w):\n",
    "        if p.getpixel((i, j)) == 0:\n",
    "            up = j\n",
    "            found = True\n",
    "            break\n",
    "    if found:\n",
    "        break\n",
    "for j in range(h-1, -1, -1):\n",
    "    found = False\n",
    "    for i in range(w):\n",
    "        if p.getpixel((i,j)) == 0:\n",
    "            found = True\n",
    "            down = j\n",
    "            break\n",
    "    if found:\n",
    "        break    \n",
    "up, down"
   ]
  },
  {
   "cell_type": "code",
   "execution_count": 47,
   "metadata": {},
   "outputs": [],
   "source": [
    "def remove_noise(img_path):\n",
    "    img = Image.open(img_path).convert('L')\n",
    "    img = img.point(lambda x: 0 if x<50 else 255, '1')\n",
    "    img_name = img_path.split('/')[-1]\n",
    "    img.save('noise-removed/{}'.format(img_name))"
   ]
  },
  {
   "cell_type": "code",
   "execution_count": 48,
   "metadata": {},
   "outputs": [],
   "source": [
    "from glob import glob\n",
    "\n",
    "all_img_paths = glob('input/*.jpg')\n",
    "all_img_paths\n",
    "for img_path in all_img_paths:\n",
    "    remove_noise(img_path)"
   ]
  },
  {
   "cell_type": "code",
   "execution_count": 79,
   "metadata": {},
   "outputs": [],
   "source": [
    "def cut_and_crop(img_path):\n",
    "    img = Image.open(img_path).convert('P')\n",
    "    global part\n",
    "    letters = []\n",
    "    left, right = 0, 0\n",
    "    w,h, up, down = 60, 30, 11, 21\n",
    "    found = False\n",
    "    for i in range(w):\n",
    "        in_letter = False\n",
    "        for j in range(h):\n",
    "            if img.getpixel((i,j)) == 0:\n",
    "                in_letter = True\n",
    "                break\n",
    "        if not found and in_letter:\n",
    "            found = True\n",
    "            left = i\n",
    "        if found and not in_letter and i-left>6:\n",
    "            found = False\n",
    "            right = i\n",
    "            letters.append((left, right))\n",
    "    for left, right in letters:\n",
    "        bbox = (left, up, right, down)\n",
    "        crop = img.crop(bbox)\n",
    "        crop.save('crop/part_{}.png'.format(part))\n",
    "        part += 1\n",
    "        \n",
    "def cut_and_crop2(img_path):\n",
    "    img = Image.open(img_path).convert('P')\n",
    "    global part\n",
    "    bbox = (5, 11, 13, 21)\n",
    "    crop = img.crop(bbox)\n",
    "    crop.save('crop/part_{}.png'.format(part))\n",
    "    part += 1\n",
    "    bbox = (14, 11, 22, 21)\n",
    "    crop = img.crop(bbox)\n",
    "    crop.save('crop/part_{}.png'.format(part))\n",
    "    bbox = (23, 11, 31, 21)\n",
    "    crop = img.crop(bbox)\n",
    "    crop.save('crop/part_{}.png'.format(part))\n",
    "    bbox = (32, 11, 40, 21)\n",
    "    crop = img.crop(bbox)\n",
    "    crop.save('crop/part_{}.png'.format(part))\n",
    "    bbox = (41, 11, 49, 21)\n",
    "    crop = img.crop(bbox)\n",
    "    crop.save('crop/part_{}.png'.format(part))"
   ]
  },
  {
   "cell_type": "code",
   "execution_count": 81,
   "metadata": {},
   "outputs": [],
   "source": [
    "import os\n",
    "from shutil import rmtree\n",
    "\n",
    "part = 0\n",
    "all_img_paths = glob('noise-removed/*.jpg')\n",
    "if os.path.exists('crop'):\n",
    "    rmtree('crop')\n",
    "os.mkdir('crop')\n",
    "for img_path in all_img_paths:\n",
    "    cut_and_crop(img_path)"
   ]
  },
  {
   "cell_type": "code",
   "execution_count": 89,
   "metadata": {},
   "outputs": [],
   "source": [
    "from PIL import ImageChops\n",
    "\n",
    "def detect_char(img_path):\n",
    "    char_paths = glob('chars/*.png')\n",
    "    class Fit:\n",
    "        letter = None\n",
    "        difference = 0\n",
    "    best = Fit()\n",
    "    _img = Image.open(img_path)\n",
    "    for char_path in char_paths:\n",
    "        current = Fit()\n",
    "        img = Image.open(char_path)\n",
    "        current.letter = char_path.split('/')[-1].split('.')[0]\n",
    "        difference = ImageChops.difference(_img, img)\n",
    "        for x in range(difference.size[0]):\n",
    "            for y in range(difference.size[1]):\n",
    "                current.difference += difference.getpixel((x, y))/255.\n",
    "        if not best.letter or best.difference > current.difference:\n",
    "            best = current\n",
    "    print(img_path, best.letter)\n",
    "#     if best.letter == filename.split('-')[0]: return\n",
    "#     print(filename, best.letter)\n",
    "#     rename(path, filename, best.letter)"
   ]
  },
  {
   "cell_type": "code",
   "execution_count": 93,
   "metadata": {},
   "outputs": [
    {
     "name": "stdout",
     "output_type": "stream",
     "text": [
      "part_4.png 4\n"
     ]
    }
   ],
   "source": [
    "detect_char('part_4.png')"
   ]
  },
  {
   "cell_type": "code",
   "execution_count": 98,
   "metadata": {},
   "outputs": [
    {
     "name": "stdout",
     "output_type": "stream",
     "text": [
      "5 12 11 21\n",
      "14 22 11 21\n",
      "23 31 11 21\n",
      "32 40 11 21\n",
      "42 49 11 21\n"
     ]
    }
   ],
   "source": [
    "def checker(img_path):\n",
    "    img = Image.open(img_path).convert('P')\n",
    "    letters = []\n",
    "    left, right = 0, 0\n",
    "    w,h, up, down = 60, 30, 11, 21\n",
    "    found = False\n",
    "    for i in range(w):\n",
    "        in_letter = False\n",
    "        for j in range(h):\n",
    "            if img.getpixel((i,j)) == 0:\n",
    "                in_letter = True\n",
    "                break\n",
    "        if not found and in_letter:\n",
    "            found = True\n",
    "            left = i\n",
    "        if found and not in_letter and i-left>6:\n",
    "            found = False\n",
    "            right = i\n",
    "            letters.append((left, right))\n",
    "    for left, right in letters:\n",
    "        print(left, right, up, down)\n",
    "\n",
    "img_path = 'noise-removed/input00.jpg'\n",
    "checker(img_path)"
   ]
  },
  {
   "cell_type": "code",
   "execution_count": 99,
   "metadata": {},
   "outputs": [
    {
     "name": "stdout",
     "output_type": "stream",
     "text": [
      "5 13 11 21\n",
      "14 22 11 21\n",
      "23 31 11 21\n",
      "33 40 11 21\n",
      "41 49 11 21\n"
     ]
    }
   ],
   "source": [
    "checker('noise-removed/input01.jpg')"
   ]
  },
  {
   "cell_type": "code",
   "execution_count": 100,
   "metadata": {},
   "outputs": [
    {
     "name": "stdout",
     "output_type": "stream",
     "text": [
      "6 13 11 21\n",
      "14 21 11 21\n",
      "23 31 11 21\n",
      "32 40 11 21\n",
      "41 49 11 21\n"
     ]
    }
   ],
   "source": [
    "checker('noise-removed/input03.jpg')"
   ]
  },
  {
   "cell_type": "code",
   "execution_count": null,
   "metadata": {},
   "outputs": [],
   "source": []
  }
 ],
 "metadata": {
  "kernelspec": {
   "display_name": "Python 3",
   "language": "python",
   "name": "python3"
  },
  "language_info": {
   "codemirror_mode": {
    "name": "ipython",
    "version": 3
   },
   "file_extension": ".py",
   "mimetype": "text/x-python",
   "name": "python",
   "nbconvert_exporter": "python",
   "pygments_lexer": "ipython3",
   "version": "3.5.2"
  }
 },
 "nbformat": 4,
 "nbformat_minor": 2
}
